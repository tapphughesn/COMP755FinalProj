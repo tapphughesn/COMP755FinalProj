{
 "cells": [
  {
   "cell_type": "code",
   "execution_count": 13,
   "id": "51b3e44e",
   "metadata": {},
   "outputs": [],
   "source": [
    "import os\n",
    "from glob import glob\n",
    "import numpy as np\n",
    "import matplotlib.pyplot as plt\n",
    "from PIL import Image"
   ]
  },
  {
   "cell_type": "code",
   "execution_count": 2,
   "id": "43e92da1",
   "metadata": {},
   "outputs": [
    {
     "data": {
      "text/plain": [
       "'/home/nick/classwork_21_22/COMP755/COMP755FinalProj/Processing'"
      ]
     },
     "execution_count": 2,
     "metadata": {},
     "output_type": "execute_result"
    }
   ],
   "source": [
    "os.getcwd()"
   ]
  },
  {
   "cell_type": "code",
   "execution_count": 38,
   "id": "0ebcd8f0",
   "metadata": {},
   "outputs": [],
   "source": [
    "img_filenames = sorted(glob('../../img_align_celeba_cleaned/*'))\n",
    "mask_filenames = sorted(glob('../../img_align_celeba_masks/*'))\n",
    "save_dir = '../../img_align_celeba_256/'"
   ]
  },
  {
   "cell_type": "code",
   "execution_count": 4,
   "id": "e7bca496",
   "metadata": {},
   "outputs": [
    {
     "data": {
      "text/plain": [
       "202228"
      ]
     },
     "execution_count": 4,
     "metadata": {},
     "output_type": "execute_result"
    }
   ],
   "source": [
    "len(img_filenames)"
   ]
  },
  {
   "cell_type": "code",
   "execution_count": 5,
   "id": "7329918a",
   "metadata": {},
   "outputs": [
    {
     "data": {
      "text/plain": [
       "202228"
      ]
     },
     "execution_count": 5,
     "metadata": {},
     "output_type": "execute_result"
    }
   ],
   "source": [
    "len(mask_filenames)"
   ]
  },
  {
   "cell_type": "code",
   "execution_count": 6,
   "id": "7d47bd1a",
   "metadata": {},
   "outputs": [],
   "source": [
    "assert(len(img_filenames) == len(mask_filenames))\n"
   ]
  },
  {
   "cell_type": "code",
   "execution_count": 29,
   "id": "07b5138d",
   "metadata": {},
   "outputs": [],
   "source": [
    "a = np.zeros((5,5))\n",
    "im = Image.fromarray(a)"
   ]
  },
  {
   "cell_type": "code",
   "execution_count": 39,
   "id": "289f49c6",
   "metadata": {},
   "outputs": [
    {
     "name": "stdout",
     "output_type": "stream",
     "text": [
      "0 1\n"
     ]
    }
   ],
   "source": [
    "# try to pad celeba imgs so that they are 256x256 and run\n",
    "# inference on then with the model that was trained for celebahq imgs\n",
    "img_arr = np.asarray(plt.imread(img_filenames[0]))\n",
    "buf = (np.array((256,256,3)) - np.array(np.shape(img_arr))) // 2\n",
    "# print(buf)\n",
    "for i in range(len(img_filenames)):\n",
    "    img_f = img_filenames[i]\n",
    "    mask_f = mask_filenames[i]\n",
    "    \n",
    "    img_savename = os.path.join(save_dir, os.path.basename(img_f) + '_256.png')\n",
    "    mask_savename = os.path.join(save_dir, os.path.basename(img_f) + '_256_mask.png')\n",
    "    \n",
    "    mask_arr = np.load(mask_f).astype(np.uint8)\n",
    "    img_arr = np.asarray(plt.imread(img_f)).astype(np.uint8)\n",
    "    new_img_arr = np.zeros((256,256,3), dtype=np.uint8)\n",
    "    new_mask_arr = np.zeros((256,256,3), dtype=np.uint8)\n",
    "    new_img_arr[buf[0]:-buf[0],buf[1]:-buf[1],:] = img_arr\n",
    "    new_mask_arr[buf[0]:-buf[0],buf[1]:-buf[1],:] = mask_arr\n",
    "    \n",
    "    im_img = Image.fromarray(new_img_arr)\n",
    "    im_mask = Image.fromarray(new_mask_arr)\n",
    "    \n",
    "    im_img.save(img_savename)\n",
    "    im_mask.save(mask_savename)\n",
    "    \n",
    "#     plt.imshow(new_img_arr * new_mask_arr)\n",
    "#     plt.imshow(img_arr*mask_arr)\n",
    "#     print(np.shape(img_arr))\n",
    "#     print(img_f, mask_f)\n",
    "    break"
   ]
  },
  {
   "cell_type": "code",
   "execution_count": null,
   "id": "48a71911",
   "metadata": {},
   "outputs": [],
   "source": []
  }
 ],
 "metadata": {
  "kernelspec": {
   "display_name": "Python 3",
   "language": "python",
   "name": "python3"
  },
  "language_info": {
   "codemirror_mode": {
    "name": "ipython",
    "version": 3
   },
   "file_extension": ".py",
   "mimetype": "text/x-python",
   "name": "python",
   "nbconvert_exporter": "python",
   "pygments_lexer": "ipython3",
   "version": "3.8.8"
  }
 },
 "nbformat": 4,
 "nbformat_minor": 5
}
