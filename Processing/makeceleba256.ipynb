{
 "cells": [
  {
   "cell_type": "code",
   "execution_count": 2,
   "id": "51b3e44e",
   "metadata": {},
   "outputs": [],
   "source": [
    "import os\n",
    "from glob import glob\n",
    "import numpy as np\n",
    "import matplotlib.pyplot as plt\n",
    "from scipy.ndimage import zoom"
   ]
  },
  {
   "cell_type": "code",
   "execution_count": 3,
   "id": "43e92da1",
   "metadata": {},
   "outputs": [
    {
     "data": {
      "text/plain": [
       "'/home/nick/classwork_21_22/COMP755/COMP755FinalProj/Processing'"
      ]
     },
     "execution_count": 3,
     "metadata": {},
     "output_type": "execute_result"
    }
   ],
   "source": [
    "os.getcwd()"
   ]
  },
  {
   "cell_type": "code",
   "execution_count": 4,
   "id": "cf9e8313",
   "metadata": {},
   "outputs": [],
   "source": [
    "def loc_from_binary_array(arr):\n",
    "    # return loc = (top, right, bottom, left)\n",
    "    mask_indices = np.argwhere(arr == 0)\n",
    "    top = np.min(mask_indices[:,0])\n",
    "    bottom = np.max(mask_indices[:,0])\n",
    "    left = np.min(mask_indices[:,1])\n",
    "    right = np.max(mask_indices[:,1])\n",
    "    return (top, right, bottom, left)\n"
   ]
  },
  {
   "cell_type": "code",
   "execution_count": 5,
   "id": "fcb6e5bc",
   "metadata": {},
   "outputs": [],
   "source": [
    "def get_mask_from_face_locations(img, loc):\n",
    "    mask = np.ones_like(img)\n",
    "    if not loc:\n",
    "        return mask\n",
    "    if len(loc) == 1:\n",
    "        loc = loc[0]\n",
    "    mask[loc[0]:loc[2],loc[3]:loc[1],:] = np.zeros_like(mask[loc[0]:loc[2],loc[3]:loc[1],:])\n",
    "    return mask"
   ]
  },
  {
   "cell_type": "code",
   "execution_count": 6,
   "id": "3c231f1a",
   "metadata": {},
   "outputs": [
    {
     "name": "stdout",
     "output_type": "stream",
     "text": [
      "202228 202228\n"
     ]
    }
   ],
   "source": [
    "img_dir = '../../img_align_celeba_cleaned/'\n",
    "mask_dir = '../../img_align_celeba_masks/'\n",
    "save_dir_256 = '../../celeba_256/'\n",
    "save_dir_256_masked_png = '../../celeba_256_masked_png/'\n",
    "save_dir_256_masks = '../../celeba_256_masks/'\n",
    "save_dir_256_masks_pngs_for_gatedconv = '../../celeba_256_masks_pngs_for_gatedconv/'\n",
    "mask_filenames = sorted(glob(mask_dir + '*'))\n",
    "img_filenames = sorted(glob(img_dir + '*'))\n",
    "print(len(mask_filenames), len(img_filenames))"
   ]
  },
  {
   "cell_type": "code",
   "execution_count": 7,
   "id": "aa44b365",
   "metadata": {},
   "outputs": [
    {
     "name": "stdout",
     "output_type": "stream",
     "text": [
      "87600\n",
      "28812\n",
      "(76, 131, 173, 34)\n"
     ]
    },
    {
     "data": {
      "image/png": "[encoded data removed]",
      "text/plain": [
       "<Figure size 432x288 with 1 Axes>"
      ]
     },
     "metadata": {
      "needs_background": "light"
     },
     "output_type": "display_data"
    }
   ],
   "source": [
    "# test loc_from_binary_array\n",
    "mask_arr = np.load(mask_filenames[0])\n",
    "plt.imshow(mask_arr.astype(np.float32))\n",
    "print(np.count_nonzero(mask_arr))\n",
    "print(np.count_nonzero(1 - mask_arr))\n",
    "print(loc_from_binary_array(mask_arr))"
   ]
  },
  {
   "cell_type": "code",
   "execution_count": 8,
   "id": "26909bb2",
   "metadata": {},
   "outputs": [
    {
     "name": "stdout",
     "output_type": "stream",
     "text": [
      "15038\n",
      "['043379.jpg', '110923.jpg', '096454.jpg', '109167.jpg', '064586.jpg']\n"
     ]
    }
   ],
   "source": [
    "import pickle\n",
    "\n",
    "with open('../../objects_jsons/celeba_test_set.pkl', 'rb') as f:\n",
    "    test_set = pickle.load(f)\n",
    "\n",
    "with open('../../objects_jsons/celeba_train_set.pkl', 'rb') as f:\n",
    "    train_set = pickle.load(f)\n",
    "\n",
    "relevant_filenames = [x[0] for x in test_set.union(train_set)]\n",
    "print(len(relevant_filenames))\n",
    "print(relevant_filenames[:5])"
   ]
  },
  {
   "cell_type": "code",
   "execution_count": 9,
   "id": "289f49c6",
   "metadata": {
    "scrolled": false
   },
   "outputs": [],
   "source": [
    "# try to zoom celeba imgs so that they are 256x256 and run\n",
    "# inference on then with the model that was trained for celebahq imgs\n",
    "# img_arr = np.asarray(plt.imread(img_filenames[0]))\n",
    "# buf = (np.array((256,256,3)) - np.array(np.shape(img_arr))) // 2\n",
    "# print(buf)\n",
    "\n",
    "for i in range(len(img_filenames)):\n",
    "\n",
    "    img_f = img_filenames[i]\n",
    "    mask_f = mask_filenames[i]\n",
    "\n",
    "    if os.path.basename(img_f) not in relevant_filenames:\n",
    "        continue\n",
    "\n",
    "    savename_img = os.path.join(save_dir_256, os.path.basename(img_f) + '_256.png')\n",
    "    savename_mask = os.path.join(save_dir_256_masks, os.path.basename(img_f) + '_256_mask.npy')\n",
    "    savename_masked_img = os.path.join(save_dir_256_masked_png, os.path.basename(img_f) + '_256_masked.png')\n",
    "    savename_mask_png = os.path.join(save_dir_256_masks_pngs_for_gatedconv, os.path.basename(img_f) + '_256_mask.png')\n",
    "\n",
    "    if os.path.isfile(savename_mask_png):\n",
    "        continue\n",
    "    \n",
    "    mask_arr = np.load(mask_f).astype(np.uint8)\n",
    "    img_arr = np.asarray(plt.imread(img_f)).astype(np.uint8)\n",
    "    \n",
    "    loc = loc_from_binary_array(mask_arr)\n",
    "    width = img_arr.shape[1]\n",
    "\n",
    "    avg = (loc[0] + loc[2]) // 2 \n",
    "    indices = (avg - width // 2, avg + width // 2)\n",
    "\n",
    "    small_square_img = img_arr[indices[0]:indices[1], :, :]\n",
    "    # print(small_square_img.shape)\n",
    "\n",
    "    zoom_factor = 256 / width\n",
    "    square_img_256 = zoom(small_square_img, (zoom_factor, zoom_factor, 1))\n",
    "    # print(square_img_256.shape)\n",
    "\n",
    "    new_small_loc = (loc[0] - indices[0], loc[1], loc[2] - indices[0], loc[3])\n",
    "    new_big_loc = tuple([i * 256 // 178 for i in new_small_loc])\n",
    "\n",
    "    # plt.imshow(square_img_256)\n",
    "    try:\n",
    "        plt.imsave(savename_img , square_img_256)\n",
    "    except BaseException as err:\n",
    "        continue\n",
    "        print(img_f)\n",
    "        print(img_arr.shape)\n",
    "        print(square_img_256.shape)\n",
    "        print(np.unique(mask_arr))\n",
    "        print(loc)\n",
    "        print(np.count_nonzero(1 - mask_arr))\n",
    "        print(np.count_nonzero(mask_arr))\n",
    "#         plt.imshow(img_arr * mask_arr)\n",
    "        plt.imshow(img_arr)\n",
    "        assert False\n",
    "\n",
    "    square_mask_256 = get_mask_from_face_locations(square_img_256, new_big_loc)\n",
    "    square_mask_256 = square_mask_256.astype(np.float32)\n",
    "\n",
    "    # print(square_mask_256.shape)\n",
    "    # print(np.max(square_mask_256))\n",
    "    # print(np.unique(square_mask_256))\n",
    "    # print(np.max(square_img_256 * square_mask_256))\n",
    "\n",
    "    np.save(savename_mask, square_mask_256)\n",
    "\n",
    "    plt.imsave(savename_mask_png, 1 - square_mask_256)\n",
    "    plt.imsave(savename_masked_img, (square_img_256 * square_mask_256).astype(np.uint8))\n",
    "    \n",
    "    # plt.imsave(savename_masked_img, square_img_256 * square_mask_256)\n",
    "    \n",
    "    # plt.imshow(square_img_256 * square_mask_256)\n",
    "    # plt.imsave()\n",
    "    # break"
   ]
  },
  {
   "cell_type": "code",
   "execution_count": null,
   "id": "48a71911",
   "metadata": {},
   "outputs": [],
   "source": []
  }
 ],
 "metadata": {
  "kernelspec": {
   "display_name": "Python 3",
   "language": "python",
   "name": "python3"
  },
  "language_info": {
   "codemirror_mode": {
    "name": "ipython",
    "version": 3
   },
   "file_extension": ".py",
   "mimetype": "text/x-python",
   "name": "python",
   "nbconvert_exporter": "python",
   "pygments_lexer": "ipython3",
   "version": "3.8.8"
  }
 },
 "nbformat": 4,
 "nbformat_minor": 5
}
