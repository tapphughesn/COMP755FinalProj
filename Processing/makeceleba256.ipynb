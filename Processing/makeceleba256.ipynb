{
 "cells": [
  {
   "cell_type": "code",
   "execution_count": 7,
   "id": "51b3e44e",
   "metadata": {},
   "outputs": [],
   "source": [
    "import os\n",
    "from glob import glob\n",
    "import numpy as np\n",
    "import matplotlib.pyplot as plt"
   ]
  },
  {
   "cell_type": "code",
   "execution_count": 2,
   "id": "43e92da1",
   "metadata": {},
   "outputs": [
    {
     "data": {
      "text/plain": [
       "'/home/nick/classwork_21_22/COMP755/COMP755FinalProj/Processing'"
      ]
     },
     "execution_count": 2,
     "metadata": {},
     "output_type": "execute_result"
    }
   ],
   "source": [
    "os.getcwd()"
   ]
  },
  {
   "cell_type": "code",
   "execution_count": 3,
   "id": "0ebcd8f0",
   "metadata": {},
   "outputs": [],
   "source": [
    "img_filenames = sorted(glob('../../img_align_celeba_cleaned/*'))\n",
    "mask_filenames = sorted(glob('../../img_align_celeba_masks/*'))\n",
    "save_dir = '../../img_align_celeba_256/'"
   ]
  },
  {
   "cell_type": "code",
   "execution_count": 4,
   "id": "e7bca496",
   "metadata": {},
   "outputs": [
    {
     "data": {
      "text/plain": [
       "202228"
      ]
     },
     "execution_count": 4,
     "metadata": {},
     "output_type": "execute_result"
    }
   ],
   "source": [
    "len(img_filenames)"
   ]
  },
  {
   "cell_type": "code",
   "execution_count": 5,
   "id": "7329918a",
   "metadata": {},
   "outputs": [
    {
     "data": {
      "text/plain": [
       "202228"
      ]
     },
     "execution_count": 5,
     "metadata": {},
     "output_type": "execute_result"
    }
   ],
   "source": [
    "len(mask_filenames)"
   ]
  },
  {
   "cell_type": "code",
   "execution_count": 6,
   "id": "7d47bd1a",
   "metadata": {},
   "outputs": [],
   "source": [
    "assert(len(img_filenames) == len(mask_filenames))\n"
   ]
  },
  {
   "cell_type": "code",
   "execution_count": 29,
   "id": "07b5138d",
   "metadata": {},
   "outputs": [],
   "source": [
    "a = np.zeros((5,5))\n",
    "im = Image.fromarray(a)"
   ]
  },
  {
   "cell_type": "code",
   "execution_count": 8,
   "id": "039f4378",
   "metadata": {},
   "outputs": [
    {
     "name": "stdout",
     "output_type": "stream",
     "text": [
      "\u001b[0;31mSignature:\u001b[0m \u001b[0mnp\u001b[0m\u001b[0;34m.\u001b[0m\u001b[0margwhere\u001b[0m\u001b[0;34m(\u001b[0m\u001b[0ma\u001b[0m\u001b[0;34m)\u001b[0m\u001b[0;34m\u001b[0m\u001b[0;34m\u001b[0m\u001b[0m\n",
      "\u001b[0;31mDocstring:\u001b[0m\n",
      "Find the indices of array elements that are non-zero, grouped by element.\n",
      "\n",
      "Parameters\n",
      "----------\n",
      "a : array_like\n",
      "    Input data.\n",
      "\n",
      "Returns\n",
      "-------\n",
      "index_array : (N, a.ndim) ndarray\n",
      "    Indices of elements that are non-zero. Indices are grouped by element.\n",
      "    This array will have shape ``(N, a.ndim)`` where ``N`` is the number of\n",
      "    non-zero items.\n",
      "\n",
      "See Also\n",
      "--------\n",
      "where, nonzero\n",
      "\n",
      "Notes\n",
      "-----\n",
      "``np.argwhere(a)`` is almost the same as ``np.transpose(np.nonzero(a))``,\n",
      "but produces a result of the correct shape for a 0D array.\n",
      "\n",
      "The output of ``argwhere`` is not suitable for indexing arrays.\n",
      "For this purpose use ``nonzero(a)`` instead.\n",
      "\n",
      "Examples\n",
      "--------\n",
      ">>> x = np.arange(6).reshape(2,3)\n",
      ">>> x\n",
      "array([[0, 1, 2],\n",
      "       [3, 4, 5]])\n",
      ">>> np.argwhere(x>1)\n",
      "array([[0, 2],\n",
      "       [1, 0],\n",
      "       [1, 1],\n",
      "       [1, 2]])\n",
      "\u001b[0;31mFile:\u001b[0m      ~/anaconda3/lib/python3.8/site-packages/numpy/core/numeric.py\n",
      "\u001b[0;31mType:\u001b[0m      function\n"
     ]
    }
   ],
   "source": [
    "?np.argwhere"
   ]
  },
  {
   "cell_type": "code",
   "execution_count": 22,
   "id": "cf9e8313",
   "metadata": {},
   "outputs": [],
   "source": [
    "def loc_from_binary_array(arr):\n",
    "    # return loc = (top, right, bottom, left)\n",
    "    mask_indices = np.argwhere(arr == 0)\n",
    "    top = np.min(mask_indices[:,0])\n",
    "    bottom = np.max(mask_indices[:,0])\n",
    "    left = np.min(mask_indices[:,1])\n",
    "    right = np.max(mask_indices[:,1])\n",
    "    return (top, right, bottom, left)\n"
   ]
  },
  {
   "cell_type": "code",
   "execution_count": 23,
   "id": "3c231f1a",
   "metadata": {},
   "outputs": [
    {
     "name": "stdout",
     "output_type": "stream",
     "text": [
      "202228 202228\n"
     ]
    }
   ],
   "source": [
    "img_dir = '../../img_align_celeba_cleaned/'\n",
    "mask_dir = '../../img_align_celeba_masks/'\n",
    "save_dir = '../../img_align_celeba_256/'\n",
    "mask_files = sorted(glob(mask_dir + '*'))\n",
    "img_files = sorted(glob(img_dir + '*'))\n",
    "print(len(mask_files), len(img_files))"
   ]
  },
  {
   "cell_type": "code",
   "execution_count": 24,
   "id": "c78e41c7",
   "metadata": {},
   "outputs": [
    {
     "name": "stdout",
     "output_type": "stream",
     "text": [
      "../../img_align_celeba_masks/000001.jpg_mask.npy\n"
     ]
    }
   ],
   "source": [
    "print(mask_files[0])"
   ]
  },
  {
   "cell_type": "code",
   "execution_count": 25,
   "id": "aa44b365",
   "metadata": {},
   "outputs": [
    {
     "name": "stdout",
     "output_type": "stream",
     "text": [
      "87600\n",
      "28812\n",
      "(76, 131, 173, 34)\n"
     ]
    },
    {
     "data": {
      "image/png": "[encoded data removed]",
      "text/plain": [
       "<Figure size 432x288 with 1 Axes>"
      ]
     },
     "metadata": {
      "needs_background": "light"
     },
     "output_type": "display_data"
    }
   ],
   "source": [
    "# test loc_from_binary_array\n",
    "mask_arr = np.load(mask_files[0])\n",
    "plt.imshow(mask_arr.astype(np.float32))\n",
    "print(np.count_nonzero(mask_arr))\n",
    "print(np.count_nonzero(1 - mask_arr))\n",
    "print(loc_from_binary_array(mask_arr))"
   ]
  },
  {
   "cell_type": "code",
   "execution_count": 39,
   "id": "289f49c6",
   "metadata": {},
   "outputs": [
    {
     "name": "stdout",
     "output_type": "stream",
     "text": [
      "0 1\n"
     ]
    }
   ],
   "source": [
    "# try to zoom celeba imgs so that they are 256x256 and run\n",
    "# inference on then with the model that was trained for celebahq imgs\n",
    "img_arr = np.asarray(plt.imread(img_filenames[0]))\n",
    "buf = (np.array((256,256,3)) - np.array(np.shape(img_arr))) // 2\n",
    "# print(buf)\n",
    "for i in range(len(img_filenames)):\n",
    "    img_f = img_filenames[i]\n",
    "    mask_f = mask_filenames[i]\n",
    "    \n",
    "    img_savename = os.path.join(save_dir, os.path.basename(img_f) + '_256.png')\n",
    "    mask_savename = os.path.join(save_dir, os.path.basename(img_f) + '_256_mask.png')\n",
    "    \n",
    "    mask_arr = np.load(mask_f).astype(np.uint8)\n",
    "    img_arr = np.asarray(plt.imread(img_f)).astype(np.uint8)\n",
    "    new_img_arr = np.zeros((256,256,3), dtype=np.uint8)\n",
    "    new_mask_arr = np.zeros((256,256,3), dtype=np.uint8)\n",
    "    new_img_arr[buf[0]:-buf[0],buf[1]:-buf[1],:] = img_arr\n",
    "    new_mask_arr[buf[0]:-buf[0],buf[1]:-buf[1],:] = mask_arr\n",
    "    \n",
    "    im_img = Image.fromarray(new_img_arr)\n",
    "    im_mask = Image.fromarray(new_mask_arr)\n",
    "    \n",
    "    im_img.save(img_savename)\n",
    "    im_mask.save(mask_savename)\n",
    "    \n",
    "#     plt.imshow(new_img_arr * new_mask_arr)\n",
    "#     plt.imshow(img_arr*mask_arr)\n",
    "#     print(np.shape(img_arr))\n",
    "#     print(img_f, mask_f)\n",
    "    break"
   ]
  },
  {
   "cell_type": "code",
   "execution_count": null,
   "id": "48a71911",
   "metadata": {},
   "outputs": [],
   "source": []
  }
 ],
 "metadata": {
  "kernelspec": {
   "display_name": "Python 3",
   "language": "python",
   "name": "python3"
  },
  "language_info": {
   "codemirror_mode": {
    "name": "ipython",
    "version": 3
   },
   "file_extension": ".py",
   "mimetype": "text/x-python",
   "name": "python",
   "nbconvert_exporter": "python",
   "pygments_lexer": "ipython3",
   "version": "3.8.8"
  }
 },
 "nbformat": 4,
 "nbformat_minor": 5
}
