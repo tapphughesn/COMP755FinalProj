{
 "cells": [
  {
   "cell_type": "code",
   "execution_count": 13,
   "id": "ef615f0f",
   "metadata": {},
   "outputs": [],
   "source": [
    "import pickle\n",
    "import face_recognition\n",
    "from glob import glob\n",
    "import os"
   ]
  },
  {
   "cell_type": "code",
   "execution_count": 4,
   "id": "c03886f9",
   "metadata": {},
   "outputs": [],
   "source": [
    "src_files = sorted(glob('../../CelebAHQ256_cleaned/*'))"
   ]
  },
  {
   "cell_type": "code",
   "execution_count": 5,
   "id": "545f8f45",
   "metadata": {},
   "outputs": [
    {
     "data": {
      "text/plain": [
       "29974"
      ]
     },
     "execution_count": 5,
     "metadata": {},
     "output_type": "execute_result"
    }
   ],
   "source": [
    "len(src_files)"
   ]
  },
  {
   "cell_type": "code",
   "execution_count": 11,
   "id": "d1f6387e",
   "metadata": {},
   "outputs": [],
   "source": [
    "fname_to_encoding = {}\n",
    "for f in src_files:\n",
    "    img = face_recognition.load_image_file(f)\n",
    "    encoding = face_recognition.face_encodings(img)\n",
    "    if len(encoding) == 0:\n",
    "        continue\n",
    "    fname_to_encoding[f] = encoding[0]"
   ]
  },
  {
   "cell_type": "code",
   "execution_count": 26,
   "id": "baa1934d",
   "metadata": {},
   "outputs": [],
   "source": [
    "save_fname_to_encoding = \"../../fname_to_encoding.pkl\"\n",
    "if os.path.isfile(save_fname_to_encoding):\n",
    "    os.remove(save_fname_to_encoding)"
   ]
  },
  {
   "cell_type": "code",
   "execution_count": 27,
   "id": "bbec13a7",
   "metadata": {},
   "outputs": [],
   "source": [
    "f = open(save_fname_to_encoding, 'wb')\n",
    "pickle.dump(fname_to_encoding, f)"
   ]
  },
  {
   "cell_type": "code",
   "execution_count": 29,
   "id": "c527fd3c",
   "metadata": {},
   "outputs": [
    {
     "data": {
      "text/plain": [
       "29562"
      ]
     },
     "execution_count": 29,
     "metadata": {},
     "output_type": "execute_result"
    }
   ],
   "source": [
    "len(fname_to_encoding)"
   ]
  },
  {
   "cell_type": "code",
   "execution_count": null,
   "id": "0683dedb",
   "metadata": {},
   "outputs": [],
   "source": []
  }
 ],
 "metadata": {
  "kernelspec": {
   "display_name": "Python 3",
   "language": "python",
   "name": "python3"
  },
  "language_info": {
   "codemirror_mode": {
    "name": "ipython",
    "version": 3
   },
   "file_extension": ".py",
   "mimetype": "text/x-python",
   "name": "python",
   "nbconvert_exporter": "python",
   "pygments_lexer": "ipython3",
   "version": "3.8.8"
  }
 },
 "nbformat": 4,
 "nbformat_minor": 5
}
