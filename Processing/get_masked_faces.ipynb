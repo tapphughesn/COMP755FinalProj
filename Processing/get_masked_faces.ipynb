{
 "cells": [
  {
   "cell_type": "code",
   "execution_count": 11,
   "id": "7b9c842d",
   "metadata": {},
   "outputs": [],
   "source": [
    "import numpy as np\n",
    "import matplotlib.pyplot as plt\n",
    "import os\n",
    "from glob import glob\n",
    "import dlib\n",
    "import face_recognition"
   ]
  },
  {
   "cell_type": "code",
   "execution_count": 12,
   "id": "c27d8108",
   "metadata": {},
   "outputs": [
    {
     "data": {
      "text/plain": [
       "202599"
      ]
     },
     "execution_count": 12,
     "metadata": {},
     "output_type": "execute_result"
    }
   ],
   "source": [
    "image_filenames = sorted(glob('../../img_align_celeba/*'))\n",
    "len(image_filenames)"
   ]
  },
  {
   "cell_type": "code",
   "execution_count": 13,
   "id": "cb9e3fd4",
   "metadata": {},
   "outputs": [],
   "source": [
    "def get_mask_from_face_locations(img, loc):\n",
    "    mask = np.ones_like(img)\n",
    "    if not loc:\n",
    "        return mask\n",
    "    loc = loc[0]\n",
    "    mask[loc[0]:loc[2],loc[3]:loc[1],:] = np.zeros_like(mask[loc[0]:loc[2],loc[3]:loc[1],:])\n",
    "    return mask"
   ]
  },
  {
   "cell_type": "code",
   "execution_count": 14,
   "id": "334407cb",
   "metadata": {
    "scrolled": true
   },
   "outputs": [],
   "source": [
    "# visualize some face masks\n",
    "# num = 10\n",
    "# fig, axs = plt.subplots(num, 2)\n",
    "# fig.set_size_inches(8, 5*num)\n",
    "# for i in range(num):\n",
    "#     test_img_filename = image_filenames[i]\n",
    "#     test_img = face_recognition.load_image_file(test_img_filename)\n",
    "#     face_locations = face_recognition.face_locations(test_img)\n",
    "#     test_mask = get_mask_from_face_locations(test_img, face_locations)\n",
    "#     axs[i,0].imshow(test_img)\n",
    "#     axs[i,1].imshow(test_img * test_mask)\n",
    "\n",
    "# plt.tight_layout()\n",
    "# plt.savefig(\"face_mask_noDL.jpg\")"
   ]
  },
  {
   "cell_type": "code",
   "execution_count": 15,
   "id": "0bb0f30b",
   "metadata": {},
   "outputs": [],
   "source": [
    "# num = 10\n",
    "# fig, axs = plt.subplots(num, 2)\n",
    "# fig.set_size_inches(8, 5*num)\n",
    "# for i in range(num):\n",
    "#     test_img_filename = image_filenames[i]\n",
    "#     test_img = face_recognition.load_image_file(test_img_filename)\n",
    "#     face_locations = face_recognition.face_locations(test_img, model=\"cnn\")\n",
    "#     test_mask = get_mask_from_face_locations(test_img, face_locations)\n",
    "#     axs[i,0].imshow(test_img)\n",
    "#     axs[i,1].imshow(test_img * test_mask)\n",
    "\n",
    "# plt.tight_layout()\n",
    "# plt.savefig(\"face_mask_withDL.jpg\")"
   ]
  },
  {
   "cell_type": "code",
   "execution_count": 16,
   "id": "5abe9aeb",
   "metadata": {},
   "outputs": [],
   "source": [
    "save_dir = '../../img_align_celeba_masks/'\n",
    "if not os.path.isdir(save_dir):\n",
    "    os.mkdir(save_dir)"
   ]
  },
  {
   "cell_type": "code",
   "execution_count": 22,
   "id": "47127c07",
   "metadata": {},
   "outputs": [],
   "source": [
    "\n",
    "for filepath in image_filenames:\n",
    "    img = face_recognition.load_image_file(filepath)\n",
    "    face_locations = face_recognition.face_locations(img, model=\"cnn\")\n",
    "    mask = get_mask_from_face_locations(img, face_locations)\n",
    "    if (np.all(mask)): #No face was detected\n",
    "        continue\n",
    "    np.save(os.path.join(save_dir, os.path.basename(filepath) + '_mask'), mask)"
   ]
  },
  {
   "cell_type": "code",
   "execution_count": null,
   "id": "dd9c88bf",
   "metadata": {},
   "outputs": [],
   "source": []
  }
 ],
 "metadata": {
  "kernelspec": {
   "display_name": "Python 3",
   "language": "python",
   "name": "python3"
  },
  "language_info": {
   "codemirror_mode": {
    "name": "ipython",
    "version": 3
   },
   "file_extension": ".py",
   "mimetype": "text/x-python",
   "name": "python",
   "nbconvert_exporter": "python",
   "pygments_lexer": "ipython3",
   "version": "3.8.8"
  }
 },
 "nbformat": 4,
 "nbformat_minor": 5
}
