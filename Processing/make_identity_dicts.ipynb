{
 "cells": [
  {
   "cell_type": "code",
   "execution_count": 61,
   "id": "b8aeacbc",
   "metadata": {},
   "outputs": [],
   "source": [
    "import json\n",
    "import os"
   ]
  },
  {
   "cell_type": "code",
   "execution_count": 62,
   "id": "6b183da7",
   "metadata": {},
   "outputs": [],
   "source": [
    "src_file = \"../../CelebA-HQ-identity_fixed.txt\"\n",
    "assert(os.path.isfile(src_file))"
   ]
  },
  {
   "cell_type": "code",
   "execution_count": 63,
   "id": "41118ae5",
   "metadata": {},
   "outputs": [],
   "source": [
    "with open(src_file, 'r') as f:\n",
    "    lines = f.readlines()"
   ]
  },
  {
   "cell_type": "code",
   "execution_count": 64,
   "id": "3cf58770",
   "metadata": {},
   "outputs": [],
   "source": [
    "lines = lines[1:]"
   ]
  },
  {
   "cell_type": "code",
   "execution_count": 65,
   "id": "02880759",
   "metadata": {},
   "outputs": [
    {
     "data": {
      "text/plain": [
       "30000"
      ]
     },
     "execution_count": 65,
     "metadata": {},
     "output_type": "execute_result"
    }
   ],
   "source": [
    "len(lines)"
   ]
  },
  {
   "cell_type": "code",
   "execution_count": 66,
   "id": "3ed8364d",
   "metadata": {},
   "outputs": [],
   "source": [
    "identity_to_fname = {}\n",
    "fname_to_identity = {}\n",
    "max_identity = -1\n",
    "\n",
    "for l in lines:\n",
    "    fname, identity = l.split()\n",
    "    max_identity = max([max_identity, int(identity)])\n",
    "    \n",
    "    if identity in identity_to_fname:\n",
    "        identity_to_fname[identity].append(fname)\n",
    "    else:\n",
    "        identity_to_fname[identity] = [fname]\n",
    "        \n",
    "    fname_to_identity[fname] = [identity]"
   ]
  },
  {
   "cell_type": "code",
   "execution_count": 67,
   "id": "2aaa16ff",
   "metadata": {},
   "outputs": [
    {
     "data": {
      "text/plain": [
       "6216"
      ]
     },
     "execution_count": 67,
     "metadata": {},
     "output_type": "execute_result"
    }
   ],
   "source": [
    "max_identity"
   ]
  },
  {
   "cell_type": "code",
   "execution_count": 68,
   "id": "ea0565a7",
   "metadata": {},
   "outputs": [],
   "source": [
    "save_id_to_fname = \"../../id_to_fname.json\"\n",
    "save_fname_to_id = \"../../fname_to_id.json\"\n",
    "if os.path.isfile(save_id_to_fname):\n",
    "    os.remove(save_id_to_fname)\n",
    "if os.path.isfile(save_fname_to_id):\n",
    "    os.remove(save_fname_to_id)"
   ]
  },
  {
   "cell_type": "code",
   "execution_count": 69,
   "id": "78e0d379",
   "metadata": {},
   "outputs": [],
   "source": [
    "json.dump(identity_to_fname, open(save_id_to_fname, 'w'))"
   ]
  },
  {
   "cell_type": "code",
   "execution_count": 70,
   "id": "d1706932",
   "metadata": {},
   "outputs": [],
   "source": [
    "json.dump(fname_to_identity, open(save_fname_to_id, 'w'))"
   ]
  }
 ],
 "metadata": {
  "kernelspec": {
   "display_name": "Python 3",
   "language": "python",
   "name": "python3"
  },
  "language_info": {
   "codemirror_mode": {
    "name": "ipython",
    "version": 3
   },
   "file_extension": ".py",
   "mimetype": "text/x-python",
   "name": "python",
   "nbconvert_exporter": "python",
   "pygments_lexer": "ipython3",
   "version": "3.8.8"
  }
 },
 "nbformat": 4,
 "nbformat_minor": 5
}
