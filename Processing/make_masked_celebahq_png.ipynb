{
 "cells": [
  {
   "cell_type": "code",
   "execution_count": 10,
   "id": "2e285897",
   "metadata": {},
   "outputs": [],
   "source": [
    "import os\n",
    "from glob import glob\n",
    "import numpy as np\n",
    "import matplotlib.pyplot as plt"
   ]
  },
  {
   "cell_type": "code",
   "execution_count": 11,
   "id": "6e9bb3c0",
   "metadata": {},
   "outputs": [],
   "source": [
    "img_dir = '../../CelebAHQ256_cleaned/'\n",
    "mask_dir = '../../CelebAHQ256_masks/'\n",
    "save_dir = '../../CelebAHQ256_masked_png/'"
   ]
  },
  {
   "cell_type": "code",
   "execution_count": 12,
   "id": "3e115c59",
   "metadata": {},
   "outputs": [],
   "source": [
    "mask_files = sorted(glob(mask_dir + '*'))\n",
    "img_files = sorted(glob(img_dir + '*'))"
   ]
  },
  {
   "cell_type": "code",
   "execution_count": 14,
   "id": "eafd23f1",
   "metadata": {},
   "outputs": [],
   "source": [
    "assert(len(mask_files) == len(img_files))"
   ]
  },
  {
   "cell_type": "code",
   "execution_count": 27,
   "id": "29cf5e93",
   "metadata": {},
   "outputs": [],
   "source": [
    "for i in range(len(mask_files)):\n",
    "    img_f = img_files[i]\n",
    "    mask_f = mask_files[i]\n",
    "    savename = os.path.join(save_dir, os.path.basename(img_f)[:-4] + '_masked.png')\n",
    "    if os.path.isfile(savename):\n",
    "        continue\n",
    "    img_arr = plt.imread(img_f)\n",
    "#     plt.imshow(img_arr)\n",
    "    mask_arr = np.load(mask_f)\n",
    "    masked_img_arr = img_arr * mask_arr\n",
    "#     plt.imshow(masked_img_arr)\n",
    "    plt.imsave(savename, masked_img_arr)\n",
    "\n",
    "# for f in source_files:\n",
    "#     savename = os.path.join(save_dir, os.path.basename(f)[:-4] + '.png')\n",
    "#     arr = np.load(f)\n",
    "#     arr = 1 - arr\n",
    "#     arr = arr.astype(np.float32)\n",
    "#     plt.imsave(savename, arr)\n"
   ]
  },
  {
   "cell_type": "code",
   "execution_count": null,
   "id": "a18c758a",
   "metadata": {},
   "outputs": [],
   "source": []
  }
 ],
 "metadata": {
  "kernelspec": {
   "display_name": "Python 3",
   "language": "python",
   "name": "python3"
  },
  "language_info": {
   "codemirror_mode": {
    "name": "ipython",
    "version": 3
   },
   "file_extension": ".py",
   "mimetype": "text/x-python",
   "name": "python",
   "nbconvert_exporter": "python",
   "pygments_lexer": "ipython3",
   "version": "3.8.8"
  }
 },
 "nbformat": 4,
 "nbformat_minor": 5
}
