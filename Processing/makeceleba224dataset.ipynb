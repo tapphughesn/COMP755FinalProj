{
 "cells": [
  {
   "cell_type": "code",
   "execution_count": 2,
   "id": "51b3e44e",
   "metadata": {},
   "outputs": [],
   "source": [
    "import os\n",
    "from glob import glob\n",
    "import numpy as np\n",
    "import matplotlib.pyplot as plt\n",
    "from scipy.ndimage import zoom"
   ]
  },
  {
   "cell_type": "code",
   "execution_count": 3,
   "id": "43e92da1",
   "metadata": {},
   "outputs": [
    {
     "data": {
      "text/plain": [
       "'/home/nick/classwork_21_22/COMP755/COMP755FinalProj/Processing'"
      ]
     },
     "execution_count": 3,
     "metadata": {},
     "output_type": "execute_result"
    }
   ],
   "source": [
    "os.getcwd()"
   ]
  },
  {
   "cell_type": "code",
   "execution_count": 5,
   "id": "3c231f1a",
   "metadata": {},
   "outputs": [
    {
     "name": "stdout",
     "output_type": "stream",
     "text": [
      "15028\n",
      "['../../celeba_256_inpainted_gatedconv/000001.jpg_256_masked.png_inpainted.png', '../../celeba_256_inpainted_gatedconv/000002.jpg_256_masked.png_inpainted.png', '../../celeba_256_inpainted_gatedconv/000003.jpg_256_masked.png_inpainted.png', '../../celeba_256_inpainted_gatedconv/000004.jpg_256_masked.png_inpainted.png', '../../celeba_256_inpainted_gatedconv/000006.jpg_256_masked.png_inpainted.png']\n"
     ]
    }
   ],
   "source": [
    "celeba256inpainted_f = sorted(glob('../../celeba_256_inpainted_gatedconv/*'))\n",
    "print(len(celeba256inpainted_f))\n",
    "print(celeba256inpainted_f[:5])\n"
   ]
  },
  {
   "cell_type": "code",
   "execution_count": 7,
   "id": "26909bb2",
   "metadata": {},
   "outputs": [
    {
     "name": "stdout",
     "output_type": "stream",
     "text": [
      "[('096517.jpg', 'Danielle_Evans'), ('047646.jpg', 'Alice_Greczyn'), ('080864.jpg', 'Dev_Patel'), ('066619.jpg', 'Adrian_Pasdar'), ('150758.jpg', 'Jorma_Taccone')]\n",
      "[('000885.jpg', 'Bryan_Ferry'), ('142160.jpg', 'Jarvis_Cocker'), ('156848.jpg', 'Maky_Soler'), ('147496.jpg', 'Katarzyna_Glinka'), ('024698.jpg', 'Carly_Pope')]\n"
     ]
    }
   ],
   "source": [
    "import pickle\n",
    "\n",
    "with open('../../objects_jsons/celeba_test_set.pkl', 'rb') as f:\n",
    "    test_set = pickle.load(f)\n",
    "\n",
    "with open('../../objects_jsons/celeba_train_set.pkl', 'rb') as f:\n",
    "    train_set = pickle.load(f)\n",
    "\n",
    "test_set = list(test_set)\n",
    "train_set = list(train_set)\n",
    "\n",
    "print(test_set[:5])\n",
    "print(train_set[:5])\n",
    "\n",
    "test_set_f = [x[0] for x in test_set]\n",
    "test_set_labels = [x[1] for x in test_set]\n",
    "\n",
    "train_set_f = [x[0] for x in train_set]\n",
    "train_set_labels = [x[1] for x in train_set]\n"
   ]
  },
  {
   "cell_type": "code",
   "execution_count": 34,
   "id": "48a71911",
   "metadata": {},
   "outputs": [
    {
     "name": "stdout",
     "output_type": "stream",
     "text": [
      "001786.jpg\n",
      "(208, 256, 3)\n",
      "099801.jpg\n",
      "(232, 256, 3)\n"
     ]
    }
   ],
   "source": [
    "zoom_factor = 224/256\n",
    "\n",
    "for i in range(len(celeba256inpainted_f)):\n",
    "    # print(i / len(celeba256inpainted_f))\n",
    "    inpainted_f = celeba256inpainted_f[i]\n",
    "    original_f = os.path.basename(inpainted_f)[:10]\n",
    "    # print(original_f)\n",
    "\n",
    "    train_ind = None\n",
    "    test_ind = None\n",
    "    label = None\n",
    "    try:\n",
    "        train_ind = train_set_f.index(original_f)\n",
    "        label = train_set_labels[train_ind]\n",
    "    except ValueError:\n",
    "        pass\n",
    "\n",
    "    try:\n",
    "        test_ind = test_set_f.index(original_f)\n",
    "        label = test_set_labels[test_ind]\n",
    "    except ValueError:\n",
    "        pass\n",
    "        \n",
    "    savename = original_f + \"_inpainted_224.png\"\n",
    "    savedir = None\n",
    "    if train_ind is None:\n",
    "        savedir = '../../dataset/val/' + label + '/'\n",
    "    elif test_ind is None:\n",
    "        savedir = '../../dataset/train/' + label + '/'\n",
    "    else:\n",
    "        print(\"error: img not in test set or train set\")\n",
    "        print(\"img: \" + original_f)\n",
    "        continue\n",
    "\n",
    "    if not os.path.isdir(savedir):\n",
    "        os.mkdir(savedir)\n",
    "\n",
    "    if os.path.isfile(os.path.join(savedir, savename)):\n",
    "        continue\n",
    "\n",
    "    img_256 = plt.imread(inpainted_f)\n",
    "    # print(img_256.shape)\n",
    "    try:\n",
    "        assert(img_256.shape == (256, 256, 3))\n",
    "    except AssertionError:\n",
    "        # print(original_f)\n",
    "        # print(label)\n",
    "        # print(img_256.shape)\n",
    "\n",
    "        tmp = np.zeros((256,256,3))\n",
    "        buf = 256 - img_256.shape[0]\n",
    "        try:\n",
    "            assert(buf == 8)\n",
    "        except AssertionError:\n",
    "            print(original_f)\n",
    "            print(img_256.shape)\n",
    "            continue\n",
    "        tmp[4: -4,:,:] = img_256\n",
    "        tmp[:4,:,:] = img_256[::-1,:,:][-4:,:,:]\n",
    "        tmp[-4:,:,:] = img_256[::-1,:,:][:4,:,:]\n",
    "        img_256 = tmp\n",
    "\n",
    "    assert(img_256.shape == (256,256,3))\n",
    "\n",
    "    img_224 = zoom(img_256, (zoom_factor, zoom_factor, 1))\n",
    "    assert(img_224.shape[0] == 224)\n",
    "    assert(img_224.shape[1] == 224)\n",
    "\n",
    "    img_224 += np.abs(np.min([np.min(img_224), 0.]))\n",
    "    img_224 /= np.max([np.max(img_224), 1.])\n",
    "    # print(np.max(img_224), np.min(img_224))\n",
    "    plt.imsave(os.path.join(savedir,savename), img_224)\n"
   ]
  },
  {
   "cell_type": "code",
   "execution_count": 25,
   "id": "10f4d2f8",
   "metadata": {},
   "outputs": [
    {
     "data": {
      "text/plain": [
       "array([[ 0,  1,  2,  3,  4],\n",
       "       [ 5,  6,  7,  8,  9],\n",
       "       [10, 11, 12, 13, 14],\n",
       "       [15, 16, 17, 18, 19],\n",
       "       [20, 21, 22, 23, 24]])"
      ]
     },
     "execution_count": 25,
     "metadata": {},
     "output_type": "execute_result"
    }
   ],
   "source": [
    "a = np.arange(25).reshape((5,5))\n",
    "a"
   ]
  },
  {
   "cell_type": "code",
   "execution_count": 29,
   "id": "0c3edce4",
   "metadata": {},
   "outputs": [
    {
     "data": {
      "text/plain": [
       "array([], shape=(0, 5), dtype=int64)"
      ]
     },
     "execution_count": 29,
     "metadata": {},
     "output_type": "execute_result"
    }
   ],
   "source": [
    "a[1:3:-1,:]"
   ]
  },
  {
   "cell_type": "code",
   "execution_count": null,
   "id": "2586145c",
   "metadata": {},
   "outputs": [],
   "source": []
  }
 ],
 "metadata": {
  "kernelspec": {
   "display_name": "Python 3",
   "language": "python",
   "name": "python3"
  },
  "language_info": {
   "codemirror_mode": {
    "name": "ipython",
    "version": 3
   },
   "file_extension": ".py",
   "mimetype": "text/x-python",
   "name": "python",
   "nbconvert_exporter": "python",
   "pygments_lexer": "ipython3",
   "version": "3.8.8"
  }
 },
 "nbformat": 4,
 "nbformat_minor": 5
}
