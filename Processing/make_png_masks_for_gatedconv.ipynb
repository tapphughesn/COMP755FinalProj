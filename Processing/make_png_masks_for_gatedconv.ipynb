{
 "cells": [
  {
   "cell_type": "code",
   "execution_count": 17,
   "id": "2e285897",
   "metadata": {},
   "outputs": [],
   "source": [
    "import os\n",
    "from glob import glob\n",
    "import numpy as np\n",
    "import matplotlib.pyplot as plt"
   ]
  },
  {
   "cell_type": "code",
   "execution_count": 18,
   "id": "6e9bb3c0",
   "metadata": {},
   "outputs": [],
   "source": [
    "source_dir = '../../CelebAHQ256_masks/'\n",
    "save_dir = '../../CelebAHQ256_masks_pngs_for_gatedconv/'"
   ]
  },
  {
   "cell_type": "code",
   "execution_count": 19,
   "id": "3e115c59",
   "metadata": {},
   "outputs": [],
   "source": [
    "source_files = sorted(glob(source_dir + '*'))"
   ]
  },
  {
   "cell_type": "code",
   "execution_count": 20,
   "id": "ec05d906",
   "metadata": {},
   "outputs": [
    {
     "data": {
      "text/plain": [
       "['../../CelebAHQ256_masks/00001.jpg_mask.npy',\n",
       " '../../CelebAHQ256_masks/00002.jpg_mask.npy',\n",
       " '../../CelebAHQ256_masks/00003.jpg_mask.npy',\n",
       " '../../CelebAHQ256_masks/00004.jpg_mask.npy',\n",
       " '../../CelebAHQ256_masks/00005.jpg_mask.npy',\n",
       " '../../CelebAHQ256_masks/00006.jpg_mask.npy',\n",
       " '../../CelebAHQ256_masks/00007.jpg_mask.npy',\n",
       " '../../CelebAHQ256_masks/00008.jpg_mask.npy',\n",
       " '../../CelebAHQ256_masks/00009.jpg_mask.npy',\n",
       " '../../CelebAHQ256_masks/00010.jpg_mask.npy',\n",
       " '../../CelebAHQ256_masks/00011.jpg_mask.npy',\n",
       " '../../CelebAHQ256_masks/00012.jpg_mask.npy',\n",
       " '../../CelebAHQ256_masks/00013.jpg_mask.npy',\n",
       " '../../CelebAHQ256_masks/00014.jpg_mask.npy',\n",
       " '../../CelebAHQ256_masks/00015.jpg_mask.npy',\n",
       " '../../CelebAHQ256_masks/00016.jpg_mask.npy',\n",
       " '../../CelebAHQ256_masks/00017.jpg_mask.npy',\n",
       " '../../CelebAHQ256_masks/00018.jpg_mask.npy',\n",
       " '../../CelebAHQ256_masks/00019.jpg_mask.npy',\n",
       " '../../CelebAHQ256_masks/00020.jpg_mask.npy',\n",
       " '../../CelebAHQ256_masks/00021.jpg_mask.npy',\n",
       " '../../CelebAHQ256_masks/00022.jpg_mask.npy',\n",
       " '../../CelebAHQ256_masks/00023.jpg_mask.npy',\n",
       " '../../CelebAHQ256_masks/00024.jpg_mask.npy',\n",
       " '../../CelebAHQ256_masks/00025.jpg_mask.npy',\n",
       " '../../CelebAHQ256_masks/00026.jpg_mask.npy',\n",
       " '../../CelebAHQ256_masks/00027.jpg_mask.npy',\n",
       " '../../CelebAHQ256_masks/00028.jpg_mask.npy',\n",
       " '../../CelebAHQ256_masks/00029.jpg_mask.npy',\n",
       " '../../CelebAHQ256_masks/00030.jpg_mask.npy',\n",
       " '../../CelebAHQ256_masks/00031.jpg_mask.npy',\n",
       " '../../CelebAHQ256_masks/00032.jpg_mask.npy',\n",
       " '../../CelebAHQ256_masks/00033.jpg_mask.npy',\n",
       " '../../CelebAHQ256_masks/00034.jpg_mask.npy',\n",
       " '../../CelebAHQ256_masks/00035.jpg_mask.npy',\n",
       " '../../CelebAHQ256_masks/00036.jpg_mask.npy',\n",
       " '../../CelebAHQ256_masks/00037.jpg_mask.npy',\n",
       " '../../CelebAHQ256_masks/00038.jpg_mask.npy',\n",
       " '../../CelebAHQ256_masks/00039.jpg_mask.npy',\n",
       " '../../CelebAHQ256_masks/00040.jpg_mask.npy',\n",
       " '../../CelebAHQ256_masks/00041.jpg_mask.npy',\n",
       " '../../CelebAHQ256_masks/00042.jpg_mask.npy',\n",
       " '../../CelebAHQ256_masks/00043.jpg_mask.npy',\n",
       " '../../CelebAHQ256_masks/00044.jpg_mask.npy',\n",
       " '../../CelebAHQ256_masks/00045.jpg_mask.npy',\n",
       " '../../CelebAHQ256_masks/00046.jpg_mask.npy',\n",
       " '../../CelebAHQ256_masks/00047.jpg_mask.npy',\n",
       " '../../CelebAHQ256_masks/00048.jpg_mask.npy',\n",
       " '../../CelebAHQ256_masks/00049.jpg_mask.npy',\n",
       " '../../CelebAHQ256_masks/00050.jpg_mask.npy',\n",
       " '../../CelebAHQ256_masks/00051.jpg_mask.npy',\n",
       " '../../CelebAHQ256_masks/00052.jpg_mask.npy',\n",
       " '../../CelebAHQ256_masks/00053.jpg_mask.npy',\n",
       " '../../CelebAHQ256_masks/00054.jpg_mask.npy',\n",
       " '../../CelebAHQ256_masks/00055.jpg_mask.npy',\n",
       " '../../CelebAHQ256_masks/00056.jpg_mask.npy',\n",
       " '../../CelebAHQ256_masks/00057.jpg_mask.npy',\n",
       " '../../CelebAHQ256_masks/00058.jpg_mask.npy',\n",
       " '../../CelebAHQ256_masks/00059.jpg_mask.npy',\n",
       " '../../CelebAHQ256_masks/00060.jpg_mask.npy',\n",
       " '../../CelebAHQ256_masks/00061.jpg_mask.npy',\n",
       " '../../CelebAHQ256_masks/00062.jpg_mask.npy',\n",
       " '../../CelebAHQ256_masks/00063.jpg_mask.npy',\n",
       " '../../CelebAHQ256_masks/00064.jpg_mask.npy',\n",
       " '../../CelebAHQ256_masks/00065.jpg_mask.npy',\n",
       " '../../CelebAHQ256_masks/00066.jpg_mask.npy',\n",
       " '../../CelebAHQ256_masks/00067.jpg_mask.npy',\n",
       " '../../CelebAHQ256_masks/00068.jpg_mask.npy',\n",
       " '../../CelebAHQ256_masks/00069.jpg_mask.npy',\n",
       " '../../CelebAHQ256_masks/00070.jpg_mask.npy',\n",
       " '../../CelebAHQ256_masks/00072.jpg_mask.npy',\n",
       " '../../CelebAHQ256_masks/00073.jpg_mask.npy',\n",
       " '../../CelebAHQ256_masks/00074.jpg_mask.npy',\n",
       " '../../CelebAHQ256_masks/00075.jpg_mask.npy',\n",
       " '../../CelebAHQ256_masks/00076.jpg_mask.npy',\n",
       " '../../CelebAHQ256_masks/00077.jpg_mask.npy',\n",
       " '../../CelebAHQ256_masks/00078.jpg_mask.npy',\n",
       " '../../CelebAHQ256_masks/00079.jpg_mask.npy',\n",
       " '../../CelebAHQ256_masks/00080.jpg_mask.npy',\n",
       " '../../CelebAHQ256_masks/00081.jpg_mask.npy',\n",
       " '../../CelebAHQ256_masks/00082.jpg_mask.npy',\n",
       " '../../CelebAHQ256_masks/00083.jpg_mask.npy',\n",
       " '../../CelebAHQ256_masks/00084.jpg_mask.npy',\n",
       " '../../CelebAHQ256_masks/00085.jpg_mask.npy',\n",
       " '../../CelebAHQ256_masks/00086.jpg_mask.npy',\n",
       " '../../CelebAHQ256_masks/00087.jpg_mask.npy',\n",
       " '../../CelebAHQ256_masks/00088.jpg_mask.npy',\n",
       " '../../CelebAHQ256_masks/00089.jpg_mask.npy',\n",
       " '../../CelebAHQ256_masks/00090.jpg_mask.npy',\n",
       " '../../CelebAHQ256_masks/00091.jpg_mask.npy',\n",
       " '../../CelebAHQ256_masks/00092.jpg_mask.npy',\n",
       " '../../CelebAHQ256_masks/00093.jpg_mask.npy',\n",
       " '../../CelebAHQ256_masks/00094.jpg_mask.npy',\n",
       " '../../CelebAHQ256_masks/00095.jpg_mask.npy',\n",
       " '../../CelebAHQ256_masks/00096.jpg_mask.npy',\n",
       " '../../CelebAHQ256_masks/00097.jpg_mask.npy',\n",
       " '../../CelebAHQ256_masks/00098.jpg_mask.npy',\n",
       " '../../CelebAHQ256_masks/00099.jpg_mask.npy',\n",
       " '../../CelebAHQ256_masks/00100.jpg_mask.npy',\n",
       " '../../CelebAHQ256_masks/00101.jpg_mask.npy',\n",
       " '../../CelebAHQ256_masks/00102.jpg_mask.npy',\n",
       " '../../CelebAHQ256_masks/00103.jpg_mask.npy',\n",
       " '../../CelebAHQ256_masks/00104.jpg_mask.npy',\n",
       " '../../CelebAHQ256_masks/00105.jpg_mask.npy',\n",
       " '../../CelebAHQ256_masks/00106.jpg_mask.npy',\n",
       " '../../CelebAHQ256_masks/00107.jpg_mask.npy',\n",
       " '../../CelebAHQ256_masks/00108.jpg_mask.npy',\n",
       " '../../CelebAHQ256_masks/00109.jpg_mask.npy',\n",
       " '../../CelebAHQ256_masks/00110.jpg_mask.npy',\n",
       " '../../CelebAHQ256_masks/00111.jpg_mask.npy',\n",
       " '../../CelebAHQ256_masks/00112.jpg_mask.npy',\n",
       " '../../CelebAHQ256_masks/00113.jpg_mask.npy',\n",
       " '../../CelebAHQ256_masks/00114.jpg_mask.npy',\n",
       " '../../CelebAHQ256_masks/00115.jpg_mask.npy',\n",
       " '../../CelebAHQ256_masks/00116.jpg_mask.npy',\n",
       " '../../CelebAHQ256_masks/00117.jpg_mask.npy',\n",
       " '../../CelebAHQ256_masks/00118.jpg_mask.npy',\n",
       " '../../CelebAHQ256_masks/00119.jpg_mask.npy',\n",
       " '../../CelebAHQ256_masks/00120.jpg_mask.npy',\n",
       " '../../CelebAHQ256_masks/00121.jpg_mask.npy',\n",
       " '../../CelebAHQ256_masks/00122.jpg_mask.npy',\n",
       " '../../CelebAHQ256_masks/00123.jpg_mask.npy',\n",
       " '../../CelebAHQ256_masks/00124.jpg_mask.npy',\n",
       " '../../CelebAHQ256_masks/00125.jpg_mask.npy',\n",
       " '../../CelebAHQ256_masks/00126.jpg_mask.npy',\n",
       " '../../CelebAHQ256_masks/00127.jpg_mask.npy',\n",
       " '../../CelebAHQ256_masks/00128.jpg_mask.npy',\n",
       " '../../CelebAHQ256_masks/00129.jpg_mask.npy',\n",
       " '../../CelebAHQ256_masks/00130.jpg_mask.npy',\n",
       " '../../CelebAHQ256_masks/00131.jpg_mask.npy',\n",
       " '../../CelebAHQ256_masks/00132.jpg_mask.npy']"
      ]
     },
     "execution_count": 20,
     "metadata": {},
     "output_type": "execute_result"
    }
   ],
   "source": [
    "source_files"
   ]
  },
  {
   "cell_type": "code",
   "execution_count": 23,
   "id": "29cf5e93",
   "metadata": {},
   "outputs": [
    {
     "name": "stdout",
     "output_type": "stream",
     "text": [
      "[0. 1.]\n"
     ]
    },
    {
     "data": {
      "image/png": "[encoded data removed]",
      "text/plain": [
       "<Figure size 432x288 with 1 Axes>"
      ]
     },
     "metadata": {
      "needs_background": "light"
     },
     "output_type": "display_data"
    }
   ],
   "source": [
    "for f in source_files:\n",
    "    savename = os.path.join(save_dir, os.path.basename(f)[:-4] + '.png')\n",
    "    arr = np.load(f)\n",
    "    arr = 1 - arr\n",
    "    arr = arr.astype(np.float32)\n",
    "    plt.imsave(savename, arr)\n"
   ]
  },
  {
   "cell_type": "code",
   "execution_count": null,
   "id": "a18c758a",
   "metadata": {},
   "outputs": [],
   "source": []
  }
 ],
 "metadata": {
  "kernelspec": {
   "display_name": "Python 3 (ipykernel)",
   "language": "python",
   "name": "python3"
  },
  "language_info": {
   "codemirror_mode": {
    "name": "ipython",
    "version": 3
   },
   "file_extension": ".py",
   "mimetype": "text/x-python",
   "name": "python",
   "nbconvert_exporter": "python",
   "pygments_lexer": "ipython3",
   "version": "3.7.11"
  }
 },
 "nbformat": 4,
 "nbformat_minor": 5
}
