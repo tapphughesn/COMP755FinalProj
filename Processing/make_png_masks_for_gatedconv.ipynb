{
 "cells": [
  {
   "cell_type": "code",
   "execution_count": 25,
   "id": "2e285897",
   "metadata": {},
   "outputs": [],
   "source": [
    "import os\n",
    "from glob import glob\n",
    "import numpy as np\n",
    "import matplotlib.pyplot as plt\n",
    "from PIL import Image"
   ]
  },
  {
   "cell_type": "code",
   "execution_count": 26,
   "id": "6e9bb3c0",
   "metadata": {},
   "outputs": [],
   "source": [
    "source_dir = '../../CelebAHQ256_masks/'\n",
    "save_dir = '../../CelebAHQ256_masks_pngs_for_gatedconv/'"
   ]
  },
  {
   "cell_type": "code",
   "execution_count": 27,
   "id": "3e115c59",
   "metadata": {},
   "outputs": [],
   "source": [
    "source_files = glob(source_dir + '*')"
   ]
  },
  {
   "cell_type": "code",
   "execution_count": 29,
   "id": "29cf5e93",
   "metadata": {},
   "outputs": [],
   "source": [
    "for f in source_files:\n",
    "    savename = os.path.join(save_dir, os.path.basename(f)[:-4] + '.png')\n",
    "    if os.path.isfile(savename):\n",
    "        continue\n",
    "    arr = np.load(f)\n",
    "    im = Image.fromarray(arr)\n",
    "    im.save(savename)\n",
    "    "
   ]
  },
  {
   "cell_type": "code",
   "execution_count": null,
   "id": "a18c758a",
   "metadata": {},
   "outputs": [],
   "source": []
  }
 ],
 "metadata": {
  "kernelspec": {
   "display_name": "Python 3 (ipykernel)",
   "language": "python",
   "name": "python3"
  },
  "language_info": {
   "codemirror_mode": {
    "name": "ipython",
    "version": 3
   },
   "file_extension": ".py",
   "mimetype": "text/x-python",
   "name": "python",
   "nbconvert_exporter": "python",
   "pygments_lexer": "ipython3",
   "version": "3.7.11"
  }
 },
 "nbformat": 4,
 "nbformat_minor": 5
}
