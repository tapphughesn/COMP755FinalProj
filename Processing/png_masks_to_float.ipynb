{
 "cells": [
  {
   "cell_type": "code",
   "execution_count": 5,
   "id": "2e285897",
   "metadata": {},
   "outputs": [],
   "source": [
    "from glob import glob\n",
    "import matplotlib.pyplot as plt\n",
    "import numpy as np"
   ]
  },
  {
   "cell_type": "code",
   "execution_count": 6,
   "id": "6e9bb3c0",
   "metadata": {},
   "outputs": [],
   "source": [
    "source_dir = '../../CelebAHQ256_masks_pngs_for_gatedconv/'"
   ]
  },
  {
   "cell_type": "code",
   "execution_count": 7,
   "id": "3e115c59",
   "metadata": {},
   "outputs": [],
   "source": [
    "source_files = sorted(glob(source_dir + '*'))"
   ]
  },
  {
   "cell_type": "code",
   "execution_count": 11,
   "id": "29cf5e93",
   "metadata": {},
   "outputs": [
    {
     "name": "stdout",
     "output_type": "stream",
     "text": [
      "(256, 256)\n",
      "(256, 256, 4)\n"
     ]
    }
   ],
   "source": [
    "for f in source_files:\n",
    "    mask = 1 - np.array(plt.imread(f))[:,:,0]\n",
    "    mask = np.squeeze(mask)\n",
    "    print(np.shape(mask))\n",
    "    \n",
    "    plt.imsave(f, mask.astype(np.float64))\n",
    "    print(plt.imread(f).shape)\n",
    "    break\n",
    "    "
   ]
  },
  {
   "cell_type": "code",
   "execution_count": 12,
   "id": "a18c758a",
   "metadata": {},
   "outputs": [],
   "source": [
    "my_mask = plt.imread('../../headshot256_mask.png')"
   ]
  },
  {
   "cell_type": "code",
   "execution_count": 13,
   "id": "d1884b9b",
   "metadata": {},
   "outputs": [
    {
     "data": {
      "text/plain": [
       "(3024, 4032, 4)"
      ]
     },
     "execution_count": 13,
     "metadata": {},
     "output_type": "execute_result"
    }
   ],
   "source": [
    "np.shape(my_mask)"
   ]
  },
  {
   "cell_type": "code",
   "execution_count": 17,
   "id": "2a5e482b",
   "metadata": {},
   "outputs": [
    {
     "data": {
      "text/plain": [
       "array([0., 1.], dtype=float32)"
      ]
     },
     "execution_count": 17,
     "metadata": {},
     "output_type": "execute_result"
    }
   ],
   "source": [
    "np.unique(my_mask)"
   ]
  },
  {
   "cell_type": "code",
   "execution_count": 16,
   "id": "840ef8db",
   "metadata": {},
   "outputs": [
    {
     "data": {
      "text/plain": [
       "<matplotlib.image.AxesImage at 0x7fca6e075a90>"
      ]
     },
     "execution_count": 16,
     "metadata": {},
     "output_type": "execute_result"
    },
    {
     "data": {
      "image/png": "[encoded data removed]",
      "text/plain": [
       "<Figure size 432x288 with 1 Axes>"
      ]
     },
     "metadata": {
      "needs_background": "light"
     },
     "output_type": "display_data"
    }
   ],
   "source": [
    "plt.imshow(my_mask[:,:,2])"
   ]
  },
  {
   "cell_type": "code",
   "execution_count": null,
   "id": "4c989689",
   "metadata": {},
   "outputs": [],
   "source": []
  }
 ],
 "metadata": {
  "kernelspec": {
   "display_name": "Python 3",
   "language": "python",
   "name": "python3"
  },
  "language_info": {
   "codemirror_mode": {
    "name": "ipython",
    "version": 3
   },
   "file_extension": ".py",
   "mimetype": "text/x-python",
   "name": "python",
   "nbconvert_exporter": "python",
   "pygments_lexer": "ipython3",
   "version": "3.8.8"
  }
 },
 "nbformat": 4,
 "nbformat_minor": 5
}
