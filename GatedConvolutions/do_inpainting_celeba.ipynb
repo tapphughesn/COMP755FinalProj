{
 "cells": [
  {
   "cell_type": "code",
   "execution_count": 1,
   "id": "d18d746c",
   "metadata": {},
   "outputs": [],
   "source": [
    "import os\n",
    "from glob import glob\n",
    "import warnings"
   ]
  },
  {
   "cell_type": "code",
   "execution_count": 16,
   "id": "34eaba2c",
   "metadata": {},
   "outputs": [
    {
     "data": {
      "text/plain": [
       "'cd ../../generative_inpainting; python test.py --image ../celeba_256_masked_png/{} --mask ../celeba_256_masks_pngs_for_gatedconv/{} --output ../celeba_256_inpainted_gatedconv/{} --checkpoint model_logs/release_celeba_hq_256_deepfill_v2 >/dev/null 2>&1'"
      ]
     },
     "execution_count": 16,
     "metadata": {},
     "output_type": "execute_result"
    }
   ],
   "source": [
    "cmd = 'cd ../../generative_inpainting; python test.py --image ../celeba_256_masked_png/{} --mask ../celeba_256_masks_pngs_for_gatedconv/{} --output ../celeba_256_inpainted_gatedconv/{} --checkpoint model_logs/release_celeba_hq_256_deepfill_v2 >/dev/null 2>&1'\n",
    "cmd"
   ]
  },
  {
   "cell_type": "code",
   "execution_count": 17,
   "id": "120ba0a9",
   "metadata": {},
   "outputs": [],
   "source": [
    "img_filenames = sorted(glob('../../celeba_256_masked_png/*'))\n",
    "mask_filenames = sorted(glob('../../celeba_256_masks_pngs_for_gatedconv/*'))"
   ]
  },
  {
   "cell_type": "code",
   "execution_count": 18,
   "id": "55cdd422",
   "metadata": {},
   "outputs": [],
   "source": [
    "# img_filenames[:5], mask_filenames[:5]"
   ]
  },
  {
   "cell_type": "code",
   "execution_count": 19,
   "id": "c6832b5d",
   "metadata": {},
   "outputs": [],
   "source": [
    "save_dir = '../../celeba_256_inpainted_gatedconv/'"
   ]
  },
  {
   "cell_type": "code",
   "execution_count": 20,
   "id": "d744f50d",
   "metadata": {},
   "outputs": [],
   "source": [
    "assert(len(img_filenames) == len(mask_filenames))"
   ]
  },
  {
   "cell_type": "code",
   "execution_count": 21,
   "id": "2a1fd987",
   "metadata": {},
   "outputs": [
    {
     "name": "stdout",
     "output_type": "stream",
     "text": [
      "cd ../../generative_inpainting; python test.py --image ../celeba_256_masked_png/000001.jpg_256_masked.png --mask ../celeba_256_masks_pngs_for_gatedconv/000001.jpg_256_mask.png --output ../celeba_256_inpainted_gatedconv/000001.jpg_256_masked.png_inpainted.png --checkpoint model_logs/release_celeba_hq_256_deepfill_v2 >/dev/null 2>&1\n"
     ]
    }
   ],
   "source": [
    "# inefficient for running inference on multiple images but I didn't want to dive into the code.\n",
    "# ideally you would compile the tensorflow model graph one time and run on multiple images\n",
    "\n",
    "for i in range(len(img_filenames)):\n",
    "    img_f = img_filenames[i]\n",
    "    mask_f = mask_filenames[i]\n",
    "    savename = os.path.join(save_dir, os.path.basename(img_f) + '_inpainted.png')\n",
    "    if os.path.isfile(savename):\n",
    "        continue\n",
    "    # print(cmd.format(os.path.basename(img_f), os.path.basename(mask_f), os.path.basename(savename)))\n",
    "    os.system(cmd.format(os.path.basename(img_f), os.path.basename(mask_f), os.path.basename(savename)))"
   ]
  },
  {
   "cell_type": "code",
   "execution_count": null,
   "id": "d6f4a035",
   "metadata": {},
   "outputs": [],
   "source": []
  }
 ],
 "metadata": {
  "kernelspec": {
   "display_name": "Python 3 (ipykernel)",
   "language": "python",
   "name": "python3"
  },
  "language_info": {
   "codemirror_mode": {
    "name": "ipython",
    "version": 3
   },
   "file_extension": ".py",
   "mimetype": "text/x-python",
   "name": "python",
   "nbconvert_exporter": "python",
   "pygments_lexer": "ipython3",
   "version": "3.7.11"
  }
 },
 "nbformat": 4,
 "nbformat_minor": 5
}
